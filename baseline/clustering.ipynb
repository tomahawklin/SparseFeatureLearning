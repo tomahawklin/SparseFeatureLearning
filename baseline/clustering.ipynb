{
 "cells": [
  {
   "cell_type": "code",
   "execution_count": 1,
   "metadata": {
    "collapsed": true
   },
   "outputs": [],
   "source": [
    "import numpy as np\n",
    "import pandas as pd\n",
    "import matplotlib.pyplot as plt\n",
    "import datetime\n",
    "from sklearn.model_selection import train_test_split\n",
    "from sklearn.metrics import accuracy_score, roc_auc_score, roc_curve, classification_report\n",
    "import time\n",
    "from sklearn.ensemble import RandomForestClassifier\n",
    "from sklearn.cluster import KMeans, AgglomerativeClustering, DBSCAN\n",
    "from sklearn import preprocessing\n"
   ]
  },
  {
   "cell_type": "markdown",
   "metadata": {},
   "source": [
    "## Expired Loans\n",
    "first analyze loans that have been completed up to Oct 2017"
   ]
  },
  {
   "cell_type": "code",
   "execution_count": 2,
   "metadata": {},
   "outputs": [],
   "source": [
    "df1 = pd.read_excel('2007_2011.xlsx',sheetname='Sheet1')\n",
    "df2 = pd.read_excel('2012_2013.xlsx',sheetname='Sheet1')\n",
    "df3 = pd.read_excel('2014.xlsx',sheetname='Sheet1')\n",
    "df4 = pd.read_excel('2014.xlsx',sheetname='Sheet1')\n",
    "df5 = pd.read_excel('2015.xlsx',sheetname='Sheet1')\n",
    "df6 = pd.read_excel('2016_Q1.xlsx',sheetname='Sheet1')\n",
    "df7 = pd.read_excel('2016_Q2.xlsx',sheetname='Sheet1')\n",
    "df8 = pd.read_excel('2016_Q3.xlsx',sheetname='Sheet1')\n",
    "df9 = pd.read_excel('2016_Q4.xlsx',sheetname='Sheet1')\n",
    "df10 = pd.read_excel('2017_Q1.xlsx',sheetname='Sheet1')\n",
    "df11 = pd.read_excel('2017_Q2.xlsx',sheetname='Sheet1')"
   ]
  },
  {
   "cell_type": "code",
   "execution_count": 3,
   "metadata": {},
   "outputs": [
    {
     "data": {
      "text/plain": [
       "(1759709, 27)"
      ]
     },
     "execution_count": 3,
     "metadata": {},
     "output_type": "execute_result"
    }
   ],
   "source": [
    "#df = pd.concat([df1,df2,df3],join='inner')\n",
    "date_before_36 = datetime.date(2014,10,1)\n",
    "date_before_60 = datetime.date(2012,10,1)\n",
    "#df2 = df2[((df2.term.str.contains('60')) & (df2.issue_d < date_before_60)) | (df2.term.str.contains('36'))]\n",
    "#df3 = df3[(df3.term.str.contains('36')) & (df3.issue_d < date_before_36)]\n",
    "data = pd.concat([df1,df2,df3,df4,df5,df6,df7,df8,df9,df10,df11],join='inner')\n",
    "data = data[['loan_amnt','funded_amnt','funded_amnt_inv','term','int_rate',\n",
    "         'installment','grade','sub_grade','emp_title','emp_length',\n",
    "         'home_ownership','annual_inc','verification_status','issue_d',\n",
    "         'loan_status','purpose','title','zip_code','addr_state','dti',\n",
    "        'delinq_2yrs','earliest_cr_line','open_acc','pub_rec','last_pymnt_d',\n",
    "        'last_pymnt_amnt','application_type']]\n",
    "data.shape"
   ]
  },
  {
   "cell_type": "code",
   "execution_count": 4,
   "metadata": {},
   "outputs": [
    {
     "data": {
      "text/plain": [
       "(1758140, 27)"
      ]
     },
     "execution_count": 4,
     "metadata": {},
     "output_type": "execute_result"
    }
   ],
   "source": [
    "data.dropna(subset=['annual_inc','grade','loan_status','issue_d','last_pymnt_d','loan_amnt'],\n",
    "             inplace=True)\n",
    "data.shape"
   ]
  },
  {
   "cell_type": "markdown",
   "metadata": {},
   "source": [
    "## For each grade, check default proportion"
   ]
  },
  {
   "cell_type": "code",
   "execution_count": 5,
   "metadata": {},
   "outputs": [
    {
     "data": {
      "image/png": "[encoded data removed]",
      "text/plain": [
       "<matplotlib.figure.Figure at 0x10e0eb470>"
      ]
     },
     "metadata": {},
     "output_type": "display_data"
    }
   ],
   "source": [
    "defal = []\n",
    "nondefal = []\n",
    "N = 6\n",
    "for g in ['A','B','C','D','E','F']:\n",
    "    data_temp = data[data.grade.str.contains(g)]\n",
    "    Curr = np.sum(data_temp.loan_status.str.contains('Current'))\n",
    "    Fp = np.sum(data_temp.loan_status.str.contains('Fully Paid'))\n",
    "    CO = np.sum(data_temp.loan_status.str.contains('Charged Off'))\n",
    "    Late = np.sum(data_temp.loan_status.str.contains('Late'))\n",
    "    Default = np.sum(data_temp.loan_status.str.contains('Default'))\n",
    "    defal.append(Default+CO)\n",
    "    nondefal.append(Fp+Curr)\n",
    "    \n",
    "ind = np.arange(N)    # the x locations for the groups\n",
    "width = 0.35       # the width of the bars: can also be len(x) sequence\n",
    "\n",
    "p1 = plt.bar(ind, nondefal, width)\n",
    "p2 = plt.bar(ind, defal, width,\n",
    "             bottom=nondefal)\n",
    "\n",
    "plt.ylabel('Number of Loans')\n",
    "plt.title('Default Percentage by Grade')\n",
    "plt.xticks(ind, ('A', 'B', 'C', 'D', 'E', 'F'))\n",
    "#plt.yticks(np.arange(0, 81, 10))\n",
    "plt.legend((p1[0], p2[0]), ('Non-Default', 'Default'))\n",
    "\n",
    "plt.show()"
   ]
  },
  {
   "cell_type": "markdown",
   "metadata": {},
   "source": [
    "## The Clustering Method\n",
    "Now we use the data starting from 2010 to see the basic properties of current loans."
   ]
  },
  {
   "cell_type": "code",
   "execution_count": 6,
   "metadata": {
    "collapsed": true
   },
   "outputs": [],
   "source": [
    "date_since_2009 = datetime.date(2010,1,1)\n",
    "df1 = df1[df1.issue_d > date_since_2009]\n",
    "\n",
    "data = pd.concat([df1,df2,df3,df4,df5,df6,df7],join='inner')\n",
    "data = data[['id','loan_amnt','funded_amnt','funded_amnt_inv','term','int_rate',\n",
    "         'installment','grade','sub_grade','emp_title','emp_length',\n",
    "         'home_ownership','annual_inc','verification_status','issue_d',\n",
    "         'loan_status','purpose','title','zip_code','addr_state','dti',\n",
    "        'delinq_2yrs','earliest_cr_line','open_acc','pub_rec','last_pymnt_d',\n",
    "        'last_pymnt_amnt','last_fico_range_high','last_fico_range_low','application_type',\n",
    "             'revol_bal','revol_util']]\n",
    "\n",
    "data.dropna(subset=['annual_inc','loan_status','issue_d','last_pymnt_d','loan_amnt',\n",
    "                          'int_rate','earliest_cr_line','open_acc','pub_rec','delinq_2yrs',\n",
    "                          'grade','last_fico_range_high','last_fico_range_low','installment',\n",
    "                         'funded_amnt','dti','funded_amnt_inv','revol_bal']\n",
    "            ,inplace=True)\n"
   ]
  },
  {
   "cell_type": "code",
   "execution_count": 7,
   "metadata": {},
   "outputs": [
    {
     "name": "stdout",
     "output_type": "stream",
     "text": [
      "(941344, 62)\n",
      "(403434, 62)\n"
     ]
    }
   ],
   "source": [
    "# create labels for the dataset\n",
    "data['label'] = (data.loan_status.str.contains('Charged Off') | \n",
    "                data.loan_status.str.contains('Default') | \n",
    "                data.loan_status.str.contains('Late'))\n",
    "data['cr_hist'] = (data.issue_d - data.earliest_cr_line) / np.timedelta64(1, 'M')\n",
    "data.label = data.label.astype(int)\n",
    "\n",
    "\n",
    "# clean and get training/testing data \n",
    "temp = pd.get_dummies(data[['term','grade','emp_length','home_ownership',\n",
    "                                  'verification_status','purpose']],dummy_na=True)\n",
    "X = data.as_matrix(columns=['loan_amnt','funded_amnt_inv','int_rate','installment',\n",
    "                                       'annual_inc','dti','delinq_2yrs','open_acc','pub_rec',\n",
    "                                       'last_fico_range_high','last_fico_range_low','cr_hist'])\n",
    "X = np.concatenate((X,temp.as_matrix()),axis=1)\n",
    "y = data.label.as_matrix()\n",
    "\n",
    "X_train, X_test, y_train, y_test = train_test_split(X, y, test_size=0.3, random_state=24)\n",
    "print(X_train.shape)\n",
    "print(X_test.shape)"
   ]
  },
  {
   "cell_type": "code",
   "execution_count": 12,
   "metadata": {},
   "outputs": [],
   "source": [
    "n_clusters = 5\n",
    "min_max_scaler = preprocessing.MinMaxScaler()\n",
    "X_train_minmax = min_max_scaler.fit_transform(X_train)\n",
    "X_test_minmax = min_max_scaler.transform(X_test)\n",
    "kmeans = KMeans(n_clusters=n_clusters,random_state=0).fit(X_train_minmax)\n",
    "#agglo = AgglomerativeClustering(n_clusters=n_clusters).fit(X_train_minmax)\n",
    "#dbscan = DBSCAN().fit(X_train_minmax)\n",
    "label_train = kmeans.predict(X_train_minmax)\n",
    "label_test = kmeans.predict(X_test_minmax)\n",
    "#label_train = agglo.predict(X_train_minmax)\n",
    "#label_test = agglo.predict(X_test_minmax)"
   ]
  },
  {
   "cell_type": "code",
   "execution_count": 13,
   "metadata": {},
   "outputs": [
    {
     "name": "stdout",
     "output_type": "stream",
     "text": [
      "190696\n",
      "239517\n",
      "189487\n",
      "90442\n",
      "231202\n"
     ]
    }
   ],
   "source": [
    "for clus in range(n_clusters):\n",
    "    print(np.sum(label_train == clus))"
   ]
  },
  {
   "cell_type": "code",
   "execution_count": 14,
   "metadata": {},
   "outputs": [
    {
     "name": "stdout",
     "output_type": "stream",
     "text": [
      "                    precision    recall  f1-score   support\n",
      "\n",
      "Non-Defaulted Loan     0.9350    0.9548    0.9448     69697\n",
      "    Defaulted Loan     0.7055    0.6201    0.6600     12172\n",
      "\n",
      "       avg / total     0.9009    0.9050    0.9025     81869\n",
      "\n",
      "AUC:  0.78745087575\n",
      "\n",
      "                    precision    recall  f1-score   support\n",
      "\n",
      "Non-Defaulted Loan     0.9470    0.9619    0.9544     89372\n",
      "    Defaulted Loan     0.7085    0.6323    0.6683     13093\n",
      "\n",
      "       avg / total     0.9165    0.9198    0.9178    102465\n",
      "\n",
      "AUC:  0.7971061225\n",
      "\n",
      "                    precision    recall  f1-score   support\n",
      "\n",
      "Non-Defaulted Loan     0.9412    0.9471    0.9441     66399\n",
      "    Defaulted Loan     0.7627    0.7420    0.7522     15223\n",
      "\n",
      "       avg / total     0.9079    0.9088    0.9083     81622\n",
      "\n",
      "AUC:  0.844515922093\n",
      "\n",
      "                    precision    recall  f1-score   support\n",
      "\n",
      "Non-Defaulted Loan     0.9424    0.9199    0.9310     28936\n",
      "    Defaulted Loan     0.7724    0.8287    0.7996      9490\n",
      "\n",
      "       avg / total     0.9004    0.8974    0.8986     38426\n",
      "\n",
      "AUC:  0.874294242036\n",
      "\n",
      "                    precision    recall  f1-score   support\n",
      "\n",
      "Non-Defaulted Loan     0.9431    0.9714    0.9570     88554\n",
      "    Defaulted Loan     0.6770    0.5054    0.5788     10498\n",
      "\n",
      "       avg / total     0.9149    0.9220    0.9169     99052\n",
      "\n",
      "AUC:  0.73842408755\n",
      "\n"
     ]
    }
   ],
   "source": [
    "for clus in range(n_clusters):\n",
    "    X_clus_train = X_train_minmax[label_train == clus,:]\n",
    "    X_clus_test = X_test_minmax[label_test == clus,:]\n",
    "    y_clus_train = y_train[label_train == clus]\n",
    "    y_clus_test = y_test[label_test == clus]\n",
    "\n",
    "    rf_Entro = RandomForestClassifier(criterion='entropy',random_state=0,max_depth=10)\n",
    "    rf_Entro.fit(X_clus_train,y_clus_train)\n",
    "    y_pred = rf_Entro.predict(X_clus_test)\n",
    "    #print('accuracy: ',accuracy_score(y_clus_test,y_pred))\n",
    "    target_names = ['Non-Defaulted Loan','Defaulted Loan']\n",
    "    print(classification_report(y_clus_test,y_pred,target_names=target_names,digits=4))\n",
    "    print('AUC: ',roc_auc_score(y_clus_test,y_pred))\n",
    "    print('')"
   ]
  },
  {
   "cell_type": "markdown",
   "metadata": {},
   "source": [
    "## Analyze each cluster"
   ]
  },
  {
   "cell_type": "code",
   "execution_count": 11,
   "metadata": {},
   "outputs": [
    {
     "name": "stdout",
     "output_type": "stream",
     "text": [
      "ClusID: 0  Interest Rate: 0.133902129001\n",
      "DTI: 18.1281262912 Loan amount: 13350.1113466\n",
      "FICO: 672.539722573\n",
      "\n",
      "ClusID: 1  Interest Rate: 0.158327055618\n",
      "DTI: 19.4184320848 Loan amount: 20899.900594\n",
      "FICO: 680.189939129\n",
      "\n",
      "ClusID: 2  Interest Rate: 0.118941535485\n",
      "DTI: 17.4616104458 Loan amount: 10339.0447675\n",
      "FICO: 684.388752332\n",
      "\n",
      "ClusID: 3  Interest Rate: 0.118005204927\n",
      "DTI: 17.8014089339 Loan amount: 14295.1755699\n",
      "FICO: 692.938936219\n",
      "\n",
      "ClusID: 4  Interest Rate: 0.147282748971\n",
      "DTI: 19.482385519 Loan amount: 14797.6831964\n",
      "FICO: 668.718258142\n",
      "\n",
      "ClusID: 5  Interest Rate: 0.107175284598\n",
      "DTI: 17.5452185456 Loan amount: 13711.0902854\n",
      "FICO: 693.243862034\n",
      "\n"
     ]
    }
   ],
   "source": [
    "for clus in range(n_clusters):\n",
    "    X_test_clus = X_test[label_test == clus,:]\n",
    "    print('ClusID:',clus,' Interest Rate:', np.mean(X_test_clus[:,2]),np.std())\n",
    "    print('ClusID')\n",
    "    print('DTI:', np.mean(X_test_clus[:,5]), 'Loan amount:',np.mean(X_test_clus[:,0]))\n",
    "    print('FICO:',np.mean(X_test_clus[:,9]))\n",
    "    print('')"
   ]
  }
 ],
 "metadata": {
  "kernelspec": {
   "display_name": "Python 3",
   "language": "python",
   "name": "python3"
  },
  "language_info": {
   "codemirror_mode": {
    "name": "ipython",
    "version": 3
   },
   "file_extension": ".py",
   "mimetype": "text/x-python",
   "name": "python",
   "nbconvert_exporter": "python",
   "pygments_lexer": "ipython3",
   "version": "3.6.3"
  }
 },
 "nbformat": 4,
 "nbformat_minor": 2
}
