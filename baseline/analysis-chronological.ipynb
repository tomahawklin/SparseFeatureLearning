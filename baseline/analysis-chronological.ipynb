{
 "cells": [
  {
   "cell_type": "code",
   "execution_count": 1,
   "metadata": {},
   "outputs": [],
   "source": [
    "import numpy as np\n",
    "import pandas as pd\n",
    "import matplotlib.pyplot as plt\n",
    "import datetime\n",
    "from sklearn.model_selection import train_test_split\n",
    "from sklearn.metrics import accuracy_score, roc_auc_score, roc_curve, classification_report\n",
    "import time\n",
    "#import pydotplus"
   ]
  },
  {
   "cell_type": "markdown",
   "metadata": {},
   "source": [
    "## Predict Default Probability of Recent Loans\n",
    "We want to try different models to predict loans that are issued since 2014"
   ]
  },
  {
   "cell_type": "code",
   "execution_count": 2,
   "metadata": {},
   "outputs": [],
   "source": [
    "df1 = pd.read_excel('2014.xlsx',sheetname='Sheet1')\n",
    "df2 = pd.read_excel('2015.xlsx',sheetname='Sheet1')\n",
    "df3 = pd.read_excel('2016_Q1.xlsx',sheetname='Sheet1')\n",
    "df4 = pd.read_excel('2016_Q2.xlsx',sheetname='Sheet1')\n",
    "df5 = pd.read_excel('2016_Q3.xlsx',sheetname='Sheet1')\n",
    "df6 = pd.read_excel('2016_Q4.xlsx',sheetname='Sheet1')\n",
    "df7 = pd.read_excel('2017_Q1.xlsx',sheetname='Sheet1')\n",
    "df8 = pd.read_excel('2017_Q2.xlsx',sheetname='Sheet1')\n",
    "df9 = pd.read_excel('2017_Q3.xlsx',sheetname='Sheet1')\n"
   ]
  },
  {
   "cell_type": "code",
   "execution_count": 3,
   "metadata": {
    "collapsed": true
   },
   "outputs": [],
   "source": [
    "date_before_36 = datetime.date(2014,10,1)\n",
    "date_before_60 = datetime.date(2012,10,1)\n",
    "df1 = df1[((df1.term.str.contains('36')) & (df1.issue_d > date_before_36))\n",
    "                | (df1.term.str.contains('60'))]"
   ]
  },
  {
   "cell_type": "code",
   "execution_count": 4,
   "metadata": {},
   "outputs": [
    {
     "name": "stdout",
     "output_type": "stream",
     "text": [
      "(847670, 32)\n",
      "(305293, 32)\n"
     ]
    }
   ],
   "source": [
    "data_train = pd.concat([df1,df2,df3,df4,df5],join='inner')\n",
    "data_test = pd.concat([df6,df7,df8],join='inner')\n",
    "\n",
    "data_train = data_train[['id','loan_amnt','funded_amnt','funded_amnt_inv','term','int_rate',\n",
    "         'installment','grade','sub_grade','emp_title','emp_length',\n",
    "         'home_ownership','annual_inc','verification_status','issue_d',\n",
    "         'loan_status','purpose','title','zip_code','addr_state','dti',\n",
    "        'delinq_2yrs','earliest_cr_line','open_acc','pub_rec','last_pymnt_d',\n",
    "        'last_pymnt_amnt','last_fico_range_high','last_fico_range_low','application_type',\n",
    "             'revol_bal','revol_util']]\n",
    "\n",
    "data_test = data_test[['id','loan_amnt','funded_amnt','funded_amnt_inv','term','int_rate',\n",
    "         'installment','grade','sub_grade','emp_title','emp_length',\n",
    "         'home_ownership','annual_inc','verification_status','issue_d',\n",
    "         'loan_status','purpose','title','zip_code','addr_state','dti',\n",
    "        'delinq_2yrs','earliest_cr_line','open_acc','pub_rec','last_pymnt_d',\n",
    "        'last_pymnt_amnt','last_fico_range_high','last_fico_range_low','application_type',\n",
    "             'revol_bal','revol_util']]\n",
    "\n",
    "data_train.dropna(subset=['annual_inc','loan_status','issue_d','last_pymnt_d','loan_amnt',\n",
    "                          'int_rate','earliest_cr_line','open_acc','pub_rec','delinq_2yrs',\n",
    "                          'grade','last_fico_range_high','last_fico_range_low','installment',\n",
    "                         'funded_amnt','dti','funded_amnt_inv','revol_bal']\n",
    "            ,inplace=True)\n",
    "\n",
    "data_test.dropna(subset=['annual_inc','loan_status','issue_d','last_pymnt_d','loan_amnt',\n",
    "                          'int_rate','earliest_cr_line','open_acc','pub_rec','delinq_2yrs',\n",
    "                          'grade','last_fico_range_high','last_fico_range_low','installment',\n",
    "                         'funded_amnt','dti','funded_amnt_inv','revol_bal']\n",
    "            ,inplace=True)\n",
    "\n",
    "print(data_train.shape)\n",
    "print(data_test.shape)"
   ]
  },
  {
   "cell_type": "markdown",
   "metadata": {},
   "source": [
    "## Feature Extraction\n",
    "Now we want to use the following set of features for prediction model.\n",
    "loan_amnt, funded amnt (investor), term (category), int_rate, installment, grade (category), emp_length (category), home_ownership (category), annual_inc, verification_status (category), purpose (category), dti, delinq_2yrs, earliest_cr_line (up to issue_d), open_acc, pub_rec, fico_high, fico_low"
   ]
  },
  {
   "cell_type": "code",
   "execution_count": 5,
   "metadata": {},
   "outputs": [
    {
     "name": "stdout",
     "output_type": "stream",
     "text": [
      "(847670, 60)\n",
      "(305293, 60)\n"
     ]
    }
   ],
   "source": [
    "# create labels for the dataset\n",
    "data_train['label'] = (data_train.loan_status.str.contains('Charged Off') | \n",
    "                data_train.loan_status.str.contains('Default') | \n",
    "                data_train.loan_status.str.contains('Late'))\n",
    "data_train['cr_hist'] = (data_train.issue_d - data_train.earliest_cr_line) / np.timedelta64(1, 'M')\n",
    "data_train.label = data_train.label.astype(int)\n",
    "\n",
    "data_test['label'] = (data_test.loan_status.str.contains('Charged Off') | \n",
    "                data_test.loan_status.str.contains('Default') | \n",
    "                data_test.loan_status.str.contains('Late'))\n",
    "data_test['cr_hist'] = (data_test.issue_d - data_test.earliest_cr_line) / np.timedelta64(1, 'M')\n",
    "data_test.label = data_test.label.astype(int)\n",
    "\n",
    "\n",
    "# clean and get training/testing data \n",
    "temp = pd.get_dummies(data_train[['term','grade','emp_length','home_ownership',\n",
    "                                  'verification_status','purpose']],dummy_na=True)\n",
    "X_train = data_train.as_matrix(columns=['loan_amnt','funded_amnt_inv','int_rate','installment',\n",
    "                                       'annual_inc','dti','delinq_2yrs','open_acc','pub_rec',\n",
    "                                       'last_fico_range_high','last_fico_range_low','cr_hist'])\n",
    "X_train = np.concatenate((X_train,temp.as_matrix()),axis=1)\n",
    "y_train = data_train.label.as_matrix()\n",
    "\n",
    "temp = pd.get_dummies(data_test[['term','grade','emp_length','home_ownership',\n",
    "                                  'verification_status','purpose']],dummy_na=True)\n",
    "X_test = data_test.as_matrix(columns=['loan_amnt','funded_amnt_inv','int_rate','installment',\n",
    "                                       'annual_inc','dti','delinq_2yrs','open_acc','pub_rec',\n",
    "                                       'last_fico_range_high','last_fico_range_low','cr_hist'])\n",
    "X_test = np.concatenate((X_test,temp.as_matrix()),axis=1)\n",
    "y_test = data_test.label.as_matrix()\n",
    "\n",
    "print(X_train.shape)\n",
    "print(X_test.shape)"
   ]
  },
  {
   "cell_type": "code",
   "execution_count": 6,
   "metadata": {
    "collapsed": true
   },
   "outputs": [],
   "source": [
    "from sklearn import preprocessing\n",
    "\n",
    "min_max_scaler = preprocessing.MinMaxScaler()\n",
    "X_train_minmax = min_max_scaler.fit_transform(X_train)\n",
    "X_test_minmax = min_max_scaler.transform(X_test)"
   ]
  },
  {
   "cell_type": "markdown",
   "metadata": {},
   "source": [
    "## Prediction of Default\n",
    "### Logistic Regression with cross-validation"
   ]
  },
  {
   "cell_type": "code",
   "execution_count": 25,
   "metadata": {},
   "outputs": [
    {
     "name": "stdout",
     "output_type": "stream",
     "text": [
      "computation time:  3025.089366\n"
     ]
    }
   ],
   "source": [
    "from sklearn.linear_model import LogisticRegressionCV\n",
    "\n",
    "time_start = time.clock()\n",
    "logisticModel = LogisticRegressionCV(cv=10)\n",
    "logisticModel.fit(X_train_minmax,y_train)\n",
    "time_elapsed = (time.clock() - time_start)\n",
    "print('computation time: ', time_elapsed)"
   ]
  },
  {
   "cell_type": "code",
   "execution_count": 17,
   "metadata": {},
   "outputs": [
    {
     "data": {
      "text/plain": [
       "array([[ 9,  4,  6,  2, 59,  0, 36,  1, 16, 15, 17, 46, 45, 35, 22, 49, 38,\n",
       "        41, 60, 14, 31, 29, 27, 24, 28, 32, 26, 30, 25, 51, 23, 33, 52, 55,\n",
       "        50, 18, 54, 47, 58, 48, 12, 53, 19, 44, 42, 43, 57, 37, 20, 39, 21,\n",
       "        40, 34, 56, 10, 13,  7, 11,  8,  3,  5]])"
      ]
     },
     "execution_count": 17,
     "metadata": {},
     "output_type": "execute_result"
    }
   ],
   "source": [
    "np.argsort(logisticModel.coef_)"
   ]
  },
  {
   "cell_type": "code",
   "execution_count": 33,
   "metadata": {},
   "outputs": [
    {
     "name": "stdout",
     "output_type": "stream",
     "text": [
      "-3.84946890517\n",
      "3.12741998481\n"
     ]
    }
   ],
   "source": [
    "print(logisticModel.coef_[0,6])\n",
    "print(logisticModel.coef_[0,8])"
   ]
  },
  {
   "cell_type": "code",
   "execution_count": 51,
   "metadata": {},
   "outputs": [
    {
     "data": {
      "image/png": "[encoded data removed]",
      "text/plain": [
       "<matplotlib.figure.Figure at 0x14ff05828>"
      ]
     },
     "metadata": {},
     "output_type": "display_data"
    }
   ],
   "source": [
    "bplot = pd.Series(logisticModel.coef_[0,[9,4,6,8,3,5]])\n",
    "xticks = ['last_fico_range_high','annual_inc','delinq_2yrs','pub_rec','installment','dti']\n",
    "p1 = bplot.plot(kind='bar',rot=-30,ylim=(-35,10))\n",
    "p1.set_xticklabels(xticks)\n",
    "plt.show()"
   ]
  },
  {
   "cell_type": "code",
   "execution_count": 26,
   "metadata": {},
   "outputs": [
    {
     "name": "stdout",
     "output_type": "stream",
     "text": [
      "accuracy:  0.97055287871\n",
      "                    precision    recall  f1-score   support\n",
      "\n",
      "Non-Defaulted Loan     0.9749    0.9950    0.9849    293742\n",
      "    Defaulted Loan     0.7334    0.3484    0.4724     11551\n",
      "\n",
      "       avg / total     0.9658    0.9706    0.9655    305293\n",
      "\n",
      "AUC:  0.671693772742\n"
     ]
    }
   ],
   "source": [
    "y_pred = logisticModel.predict(X_test_minmax)\n",
    "print('accuracy: ',accuracy_score(y_test,y_pred))\n",
    "target_names = ['Non-Defaulted Loan','Defaulted Loan']\n",
    "print(classification_report(y_test,y_pred,target_names=target_names,digits=4))\n",
    "print('AUC: ',roc_auc_score(y_test,y_pred))"
   ]
  },
  {
   "cell_type": "markdown",
   "metadata": {},
   "source": [
    "### Support Vector Machine"
   ]
  },
  {
   "cell_type": "code",
   "execution_count": 10,
   "metadata": {},
   "outputs": [
    {
     "data": {
      "text/plain": [
       "SVC(C=1.0, cache_size=200, class_weight=None, coef0=0.0,\n",
       "  decision_function_shape=None, degree=3, gamma='auto', kernel='rbf',\n",
       "  max_iter=-1, probability=False, random_state=None, shrinking=True,\n",
       "  tol=0.001, verbose=False)"
      ]
     },
     "execution_count": 10,
     "metadata": {},
     "output_type": "execute_result"
    }
   ],
   "source": [
    "from sklearn.svm import SVC\n",
    "svcModel = SVC(kernel='rbf')\n",
    "svcModel.fit(X_train_minmax,y_train)"
   ]
  },
  {
   "cell_type": "code",
   "execution_count": 11,
   "metadata": {},
   "outputs": [
    {
     "name": "stdout",
     "output_type": "stream",
     "text": [
      "accuracy:  0.941154532234\n",
      "                    precision    recall  f1-score   support\n",
      "\n",
      "Non-Defaulted Loan     0.9582    0.9763    0.9671    306878\n",
      "    Defaulted Loan     0.7808    0.6649    0.7182     39011\n",
      "\n",
      "       avg / total     0.9382    0.9412    0.9391    345889\n",
      "\n",
      "AUC:  0.820570487016\n"
     ]
    }
   ],
   "source": [
    "y_pred = svcModel.predict(X_test_minmax)\n",
    "print('accuracy: ',accuracy_score(y_test,y_pred))\n",
    "target_names = ['Non-Defaulted Loan','Defaulted Loan']\n",
    "print(classification_report(y_test,y_pred,target_names=target_names,digits=4))\n",
    "print('AUC: ',roc_auc_score(y_test,y_pred))"
   ]
  },
  {
   "cell_type": "markdown",
   "metadata": {},
   "source": [
    "### Random Forest"
   ]
  },
  {
   "cell_type": "code",
   "execution_count": 17,
   "metadata": {},
   "outputs": [
    {
     "name": "stdout",
     "output_type": "stream",
     "text": [
      "computation time:  17.96470899999997\n"
     ]
    }
   ],
   "source": [
    "from sklearn.ensemble import RandomForestClassifier\n",
    "\n",
    "time_start = time.clock()\n",
    "rf_Gini = RandomForestClassifier(max_depth=10)\n",
    "rf_Gini.fit(X_train_minmax,y_train)\n",
    "time_elapsed = (time.clock() - time_start)\n",
    "print('computation time: ', time_elapsed)"
   ]
  },
  {
   "cell_type": "code",
   "execution_count": 18,
   "metadata": {},
   "outputs": [
    {
     "name": "stdout",
     "output_type": "stream",
     "text": [
      "accuracy:  0.969632451448\n",
      "                    precision    recall  f1-score   support\n",
      "\n",
      "Non-Defaulted Loan     0.9786    0.9901    0.9843    293742\n",
      "    Defaulted Loan     0.6408    0.4492    0.5282     11551\n",
      "\n",
      "       avg / total     0.9658    0.9696    0.9671    305293\n",
      "\n",
      "AUC:  0.71966096344\n"
     ]
    }
   ],
   "source": [
    "y_pred = rf_Gini.predict(X_test_minmax)\n",
    "print('accuracy: ',accuracy_score(y_test,y_pred))\n",
    "target_names = ['Non-Defaulted Loan','Defaulted Loan']\n",
    "print(classification_report(y_test,y_pred,target_names=target_names,digits=4))\n",
    "print('AUC: ',roc_auc_score(y_test,y_pred))"
   ]
  },
  {
   "cell_type": "code",
   "execution_count": 19,
   "metadata": {},
   "outputs": [
    {
     "name": "stdout",
     "output_type": "stream",
     "text": [
      "accuracy:  0.969242661967\n",
      "                    precision    recall  f1-score   support\n",
      "\n",
      "Non-Defaulted Loan     0.9792    0.9890    0.9841    293742\n",
      "    Defaulted Loan     0.6257    0.4658    0.5340     11551\n",
      "\n",
      "       avg / total     0.9658    0.9692    0.9671    305293\n",
      "\n",
      "AUC:  0.727400971947\n"
     ]
    }
   ],
   "source": [
    "rf_Entro = RandomForestClassifier(criterion='entropy',max_depth=10)\n",
    "rf_Entro.fit(X_train_minmax,y_train)\n",
    "y_pred = rf_Entro.predict(X_test_minmax)\n",
    "print('accuracy: ',accuracy_score(y_test,y_pred))\n",
    "target_names = ['Non-Defaulted Loan','Defaulted Loan']\n",
    "print(classification_report(y_test,y_pred,target_names=target_names,digits=4))\n",
    "print('AUC: ',roc_auc_score(y_test,y_pred))"
   ]
  },
  {
   "cell_type": "markdown",
   "metadata": {},
   "source": [
    "### Decision Trees"
   ]
  },
  {
   "cell_type": "code",
   "execution_count": 20,
   "metadata": {},
   "outputs": [
    {
     "name": "stdout",
     "output_type": "stream",
     "text": [
      "computation time:  10.450222000000053\n",
      "accuracy:  0.969288519553\n",
      "                    precision    recall  f1-score   support\n",
      "\n",
      "Non-Defaulted Loan     0.9785    0.9898    0.9841    293742\n",
      "    Defaulted Loan     0.6333    0.4472    0.5243     11551\n",
      "\n",
      "       avg / total     0.9655    0.9693    0.9667    305293\n",
      "\n",
      "AUC:  0.718525800373\n"
     ]
    }
   ],
   "source": [
    "from sklearn.tree import DecisionTreeClassifier\n",
    "\n",
    "tree_Gini = DecisionTreeClassifier(max_depth=10)\n",
    "time_start = time.clock()\n",
    "tree_Gini.fit(X_train_minmax,y_train)\n",
    "time_elapsed = (time.clock() - time_start)\n",
    "print('computation time: ', time_elapsed)\n",
    "y_pred = tree_Gini.predict(X_test_minmax)\n",
    "print('accuracy: ',accuracy_score(y_test,y_pred))\n",
    "target_names = ['Non-Defaulted Loan','Defaulted Loan']\n",
    "print(classification_report(y_test,y_pred,target_names=target_names,digits=4))\n",
    "print('AUC: ',roc_auc_score(y_test,y_pred))"
   ]
  },
  {
   "cell_type": "code",
   "execution_count": 21,
   "metadata": {},
   "outputs": [
    {
     "name": "stdout",
     "output_type": "stream",
     "text": [
      "accuracy:  0.969288519553\n",
      "                    precision    recall  f1-score   support\n",
      "\n",
      "Non-Defaulted Loan     0.9785    0.9898    0.9841    293742\n",
      "    Defaulted Loan     0.6333    0.4472    0.5243     11551\n",
      "\n",
      "       avg / total     0.9655    0.9693    0.9667    305293\n",
      "\n",
      "AUC:  0.718525800373\n"
     ]
    }
   ],
   "source": [
    "tree_Entro = DecisionTreeClassifier(max_depth=8,criterion='entropy')\n",
    "tree_Entro.fit(X_train_minmax,y_train)\n",
    "y_pred = tree_Gini.predict(X_test_minmax)\n",
    "print('accuracy: ',accuracy_score(y_test,y_pred))\n",
    "target_names = ['Non-Defaulted Loan','Defaulted Loan']\n",
    "print(classification_report(y_test,y_pred,target_names=target_names,digits=4))\n",
    "print('AUC: ',roc_auc_score(y_test,y_pred))"
   ]
  },
  {
   "cell_type": "markdown",
   "metadata": {},
   "source": [
    "### Naive Bayes"
   ]
  },
  {
   "cell_type": "code",
   "execution_count": 22,
   "metadata": {},
   "outputs": [
    {
     "name": "stdout",
     "output_type": "stream",
     "text": [
      "computation time:  1.880553999999961\n",
      "accuracy:  0.636879980871\n",
      "                    precision    recall  f1-score   support\n",
      "\n",
      "Non-Defaulted Loan     0.9646    0.6463    0.7740    293742\n",
      "    Defaulted Loan     0.0422    0.3967    0.0764     11551\n",
      "\n",
      "       avg / total     0.9297    0.6369    0.7476    305293\n",
      "\n",
      "AUC:  0.521500649834\n"
     ]
    }
   ],
   "source": [
    "from sklearn.naive_bayes import GaussianNB, MultinomialNB, BernoulliNB\n",
    "\n",
    "gnb = GaussianNB()\n",
    "time_start = time.clock()\n",
    "y_pred = gnb.fit(X_train_minmax,y_train).predict(X_test_minmax)\n",
    "time_elapsed = (time.clock() - time_start)\n",
    "print('computation time: ', time_elapsed)\n",
    "print('accuracy: ',accuracy_score(y_test,y_pred))\n",
    "target_names = ['Non-Defaulted Loan','Defaulted Loan']\n",
    "print(classification_report(y_test,y_pred,target_names=target_names,digits=4))\n",
    "print('AUC: ',roc_auc_score(y_test,y_pred))"
   ]
  },
  {
   "cell_type": "code",
   "execution_count": 23,
   "metadata": {},
   "outputs": [
    {
     "name": "stdout",
     "output_type": "stream",
     "text": [
      "accuracy:  0.568408053902\n",
      "                    precision    recall  f1-score   support\n",
      "\n",
      "Non-Defaulted Loan     0.9757    0.5655    0.7160    293742\n",
      "    Defaulted Loan     0.0549    0.6418    0.1011     11551\n",
      "\n",
      "       avg / total     0.9409    0.5684    0.6928    305293\n",
      "\n",
      "AUC:  0.603643052276\n"
     ]
    }
   ],
   "source": [
    "mnb = MultinomialNB()\n",
    "y_pred = mnb.fit(X_train_minmax,y_train).predict(X_test_minmax)\n",
    "print('accuracy: ',accuracy_score(y_test,y_pred))\n",
    "target_names = ['Non-Defaulted Loan','Defaulted Loan']\n",
    "print(classification_report(y_test,y_pred,target_names=target_names,digits=4))\n",
    "print('AUC: ',roc_auc_score(y_test,y_pred))"
   ]
  },
  {
   "cell_type": "code",
   "execution_count": 24,
   "metadata": {},
   "outputs": [
    {
     "name": "stdout",
     "output_type": "stream",
     "text": [
      "accuracy:  0.596567887243\n",
      "                    precision    recall  f1-score   support\n",
      "\n",
      "Non-Defaulted Loan     0.9754    0.5958    0.7397    293742\n",
      "    Defaulted Loan     0.0566    0.6173    0.1038     11551\n",
      "\n",
      "       avg / total     0.9406    0.5966    0.7156    305293\n",
      "\n",
      "AUC:  0.606508335901\n"
     ]
    }
   ],
   "source": [
    "bnb = BernoulliNB()\n",
    "y_pred = bnb.fit(X_train_minmax,y_train).predict(X_test_minmax)\n",
    "print('accuracy: ',accuracy_score(y_test,y_pred))\n",
    "target_names = ['Non-Defaulted Loan','Defaulted Loan']\n",
    "print(classification_report(y_test,y_pred,target_names=target_names,digits=4))\n",
    "print('AUC: ',roc_auc_score(y_test,y_pred))"
   ]
  },
  {
   "cell_type": "markdown",
   "metadata": {},
   "source": [
    "## Prediction of Early Repayment"
   ]
  },
  {
   "cell_type": "code",
   "execution_count": 57,
   "metadata": {},
   "outputs": [
    {
     "name": "stdout",
     "output_type": "stream",
     "text": [
      "(298184, 35)\n"
     ]
    }
   ],
   "source": [
    "from statsmodels.regression.linear_model import OLS\n",
    "\n",
    "data['duration'] = (data.last_pymnt_d - data.issue_d) / np.timedelta64(1, 'M')\n",
    "data_early = data[data.loan_status.str.contains('Paid')]\n",
    "print(data_early.shape)"
   ]
  }
 ],
 "metadata": {
  "kernelspec": {
   "display_name": "Python 3",
   "language": "python",
   "name": "python3"
  },
  "language_info": {
   "codemirror_mode": {
    "name": "ipython",
    "version": 3
   },
   "file_extension": ".py",
   "mimetype": "text/x-python",
   "name": "python",
   "nbconvert_exporter": "python",
   "pygments_lexer": "ipython3",
   "version": "3.6.3"
  }
 },
 "nbformat": 4,
 "nbformat_minor": 2
}
