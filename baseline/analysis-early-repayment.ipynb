{
 "cells": [
  {
   "cell_type": "code",
   "execution_count": 1,
   "metadata": {},
   "outputs": [],
   "source": [
    "import numpy as np\n",
    "import pandas as pd\n",
    "import matplotlib.pyplot as plt\n",
    "import datetime\n",
    "from sklearn.model_selection import train_test_split\n",
    "from sklearn.metrics import accuracy_score, roc_auc_score, roc_curve, classification_report\n",
    "import time\n",
    "#import pydotplus"
   ]
  },
  {
   "cell_type": "markdown",
   "metadata": {},
   "source": [
    "## Predict Default Probability of Expired Loans\n",
    "We want to try different models to predict loans that have expired"
   ]
  },
  {
   "cell_type": "code",
   "execution_count": 2,
   "metadata": {},
   "outputs": [],
   "source": [
    "df1 = pd.read_excel('2007_2011.xlsx',sheetname='Sheet1')\n",
    "df2 = pd.read_excel('2012_2013.xlsx',sheetname='Sheet1')\n",
    "df3 = pd.read_excel('2014.xlsx',sheetname='Sheet1')\n"
   ]
  },
  {
   "cell_type": "code",
   "execution_count": 3,
   "metadata": {
    "collapsed": true
   },
   "outputs": [],
   "source": [
    "date_before_36 = datetime.date(2014,10,1)\n",
    "date_before_60 = datetime.date(2012,10,1)\n",
    "date_since_2009 = datetime.date(2010,1,1)\n",
    "df1 = df1[df1.issue_d > date_since_2009]\n",
    "df2 = df2[((df2.term.str.contains('60')) & (df2.issue_d < date_before_60)) | (df2.term.str.contains('36'))]\n",
    "df3 = df3[(df3.term.str.contains('36')) & (df3.issue_d < date_before_36)]"
   ]
  },
  {
   "cell_type": "code",
   "execution_count": 4,
   "metadata": {},
   "outputs": [
    {
     "name": "stdout",
     "output_type": "stream",
     "text": [
      "(296143, 32)\n"
     ]
    }
   ],
   "source": [
    "data = pd.concat([df1,df2,df3],join='inner')\n",
    "\n",
    "data = data[['id','loan_amnt','funded_amnt','funded_amnt_inv','term','int_rate',\n",
    "         'installment','grade','sub_grade','emp_title','emp_length',\n",
    "         'home_ownership','annual_inc','verification_status','issue_d',\n",
    "         'loan_status','purpose','title','zip_code','addr_state','dti',\n",
    "        'delinq_2yrs','earliest_cr_line','open_acc','pub_rec','last_pymnt_d',\n",
    "        'last_pymnt_amnt','last_fico_range_high','last_fico_range_low','application_type',\n",
    "             'revol_bal','revol_util']]\n",
    "\n",
    "data.dropna(subset=['annual_inc','loan_status','issue_d','last_pymnt_d','loan_amnt',\n",
    "                          'int_rate','earliest_cr_line','open_acc','pub_rec','delinq_2yrs',\n",
    "                          'grade','last_fico_range_high','last_fico_range_low','installment',\n",
    "                         'funded_amnt','dti','funded_amnt_inv','revol_bal']\n",
    "            ,inplace=True)\n",
    "\n",
    "print(data.shape)"
   ]
  },
  {
   "cell_type": "markdown",
   "metadata": {},
   "source": [
    "## Feature Extraction (Binary)"
   ]
  },
  {
   "cell_type": "code",
   "execution_count": 6,
   "metadata": {},
   "outputs": [
    {
     "name": "stderr",
     "output_type": "stream",
     "text": [
      "/Users/jeol/anaconda/lib/python3.6/site-packages/ipykernel/__main__.py:6: SettingWithCopyWarning: \n",
      "A value is trying to be set on a copy of a slice from a DataFrame.\n",
      "Try using .loc[row_indexer,col_indexer] = value instead\n",
      "\n",
      "See the caveats in the documentation: http://pandas.pydata.org/pandas-docs/stable/indexing.html#indexing-view-versus-copy\n",
      "/Users/jeol/anaconda/lib/python3.6/site-packages/pandas/core/indexing.py:465: SettingWithCopyWarning: \n",
      "A value is trying to be set on a copy of a slice from a DataFrame.\n",
      "Try using .loc[row_indexer,col_indexer] = value instead\n",
      "\n",
      "See the caveats in the documentation: http://pandas.pydata.org/pandas-docs/stable/indexing.html#indexing-view-versus-copy\n",
      "  self.obj[item] = s\n"
     ]
    },
    {
     "name": "stdout",
     "output_type": "stream",
     "text": [
      "(179389, 62)\n",
      "(76882, 62)\n"
     ]
    }
   ],
   "source": [
    "# create labels for the dataset\n",
    "data['duration'] = (data.last_pymnt_d - data.issue_d) / np.timedelta64(1, 'M')\n",
    "data['cr_hist'] = (data.issue_d - data.earliest_cr_line) / np.timedelta64(1, 'M')\n",
    "data_early = data[data.loan_status.str.contains('Fully Paid')]\n",
    "\n",
    "data_early['label'] = 0\n",
    "data_early.loc[((data_early.term.str.contains('36')) & (data_early.duration/36 < 0.85) &\n",
    "             (data_early.loan_status.str.contains('Fully Paid'))), 'label'] = 1\n",
    "data_early.loc[((data_early.term.str.contains('60')) & (data_early.duration/60 < 0.8)),\n",
    "               'label'] = 1\n",
    "# clean and get training/testing data \n",
    "temp = pd.get_dummies(data_early[['term','grade','emp_length','home_ownership',\n",
    "                                  'verification_status','purpose']],dummy_na=True)\n",
    "X = data_early.as_matrix(columns=['loan_amnt','funded_amnt_inv','int_rate','installment',\n",
    "                                       'annual_inc','dti','delinq_2yrs','open_acc','pub_rec',\n",
    "                                       'last_fico_range_high','last_fico_range_low','cr_hist'])\n",
    "X = np.concatenate((X,temp.as_matrix()),axis=1)\n",
    "y = data_early.label.as_matrix()\n",
    "\n",
    "X_train, X_test, y_train, y_test = train_test_split(X, y, test_size=0.3, random_state=24)\n",
    "print(X_train.shape)\n",
    "print(X_test.shape)"
   ]
  },
  {
   "cell_type": "markdown",
   "metadata": {},
   "source": [
    "## Feature Extraction (Multi-label)\n",
    "Now we want to use the following set of features for prediction model.\n",
    "loan_amnt, funded amnt (investor), term (category), int_rate, installment, grade (category), emp_length (category), home_ownership (category), annual_inc, verification_status (category), purpose (category), dti, delinq_2yrs, earliest_cr_line (up to issue_d), open_acc, pub_rec, fico_high, fico_low"
   ]
  },
  {
   "cell_type": "code",
   "execution_count": 32,
   "metadata": {},
   "outputs": [
    {
     "name": "stdout",
     "output_type": "stream",
     "text": [
      "(207300, 62)\n",
      "(88843, 62)\n"
     ]
    }
   ],
   "source": [
    "# create labels for the dataset\n",
    "data['duration'] = (data.last_pymnt_d - data.issue_d) / np.timedelta64(1, 'M')\n",
    "data['label'] = (data.loan_status.str.contains('Charged Off') | \n",
    "                data.loan_status.str.contains('Default') | \n",
    "                data.loan_status.str.contains('Late'))\n",
    "data['cr_hist'] = (data.issue_d - data.earliest_cr_line) / np.timedelta64(1, 'M')\n",
    "data.label = data.label.astype(int)\n",
    "data.set_value(index=((data.term.str.contains('36')) & (data.duration/36 < 0.85) &\n",
    "             (data.loan_status.str.contains('Fully Paid'))), col='label',value=2)\n",
    "data.set_value(index=((data.term.str.contains('60')) & (data.duration/60 < 0.8) &\n",
    "             (data.loan_status.str.contains('Fully Paid'))), col='label',value=2)\n",
    "\n",
    "# clean and get training/testing data \n",
    "temp = pd.get_dummies(data[['term','grade','emp_length','home_ownership',\n",
    "                                  'verification_status','purpose']],dummy_na=True)\n",
    "X = data.as_matrix(columns=['loan_amnt','funded_amnt_inv','int_rate','installment',\n",
    "                                       'annual_inc','dti','delinq_2yrs','open_acc','pub_rec',\n",
    "                                       'last_fico_range_high','last_fico_range_low','cr_hist'])\n",
    "X = np.concatenate((X,temp.as_matrix()),axis=1)\n",
    "y = data.label.as_matrix()\n",
    "\n",
    "X_train, X_test, y_train, y_test = train_test_split(X, y, test_size=0.3, random_state=24)\n",
    "print(X_train.shape)\n",
    "print(X_test.shape)"
   ]
  },
  {
   "cell_type": "code",
   "execution_count": 8,
   "metadata": {
    "collapsed": true
   },
   "outputs": [],
   "source": [
    "from sklearn import preprocessing\n",
    "\n",
    "min_max_scaler = preprocessing.MinMaxScaler()\n",
    "X_train_minmax = min_max_scaler.fit_transform(X_train)\n",
    "X_test_minmax = min_max_scaler.transform(X_test)"
   ]
  },
  {
   "cell_type": "markdown",
   "metadata": {},
   "source": [
    "## Prediction of Default\n",
    "### Logistic Regression with cross-validation"
   ]
  },
  {
   "cell_type": "code",
   "execution_count": 35,
   "metadata": {},
   "outputs": [
    {
     "name": "stdout",
     "output_type": "stream",
     "text": [
      "computation time:  1777.244221\n"
     ]
    }
   ],
   "source": [
    "from sklearn.linear_model import LogisticRegressionCV\n",
    "\n",
    "time_start = time.clock()\n",
    "logisticModel = LogisticRegressionCV(cv=10,multi_class='multinomial')\n",
    "logisticModel.fit(X_train_minmax,y_train)\n",
    "time_elapsed = (time.clock() - time_start)\n",
    "print('computation time: ', time_elapsed)"
   ]
  },
  {
   "cell_type": "code",
   "execution_count": 17,
   "metadata": {},
   "outputs": [
    {
     "data": {
      "text/plain": [
       "array([[ 9,  4,  6,  2, 59,  0, 36,  1, 16, 15, 17, 46, 45, 35, 22, 49, 38,\n",
       "        41, 60, 14, 31, 29, 27, 24, 28, 32, 26, 30, 25, 51, 23, 33, 52, 55,\n",
       "        50, 18, 54, 47, 58, 48, 12, 53, 19, 44, 42, 43, 57, 37, 20, 39, 21,\n",
       "        40, 34, 56, 10, 13,  7, 11,  8,  3,  5]])"
      ]
     },
     "execution_count": 17,
     "metadata": {},
     "output_type": "execute_result"
    }
   ],
   "source": [
    "np.argsort(logisticModel.coef_)"
   ]
  },
  {
   "cell_type": "code",
   "execution_count": 33,
   "metadata": {},
   "outputs": [
    {
     "name": "stdout",
     "output_type": "stream",
     "text": [
      "-3.84946890517\n",
      "3.12741998481\n"
     ]
    }
   ],
   "source": [
    "print(logisticModel.coef_[0,6])\n",
    "print(logisticModel.coef_[0,8])"
   ]
  },
  {
   "cell_type": "code",
   "execution_count": 51,
   "metadata": {},
   "outputs": [
    {
     "data": {
      "image/png": "[encoded data removed]",
      "text/plain": [
       "<matplotlib.figure.Figure at 0x14ff05828>"
      ]
     },
     "metadata": {},
     "output_type": "display_data"
    }
   ],
   "source": [
    "bplot = pd.Series(logisticModel.coef_[0,[9,4,6,8,3,5]])\n",
    "xticks = ['last_fico_range_high','annual_inc','delinq_2yrs','pub_rec','installment','dti']\n",
    "p1 = bplot.plot(kind='bar',rot=-30,ylim=(-35,10))\n",
    "p1.set_xticklabels(xticks)\n",
    "plt.show()"
   ]
  },
  {
   "cell_type": "code",
   "execution_count": 36,
   "metadata": {},
   "outputs": [
    {
     "name": "stdout",
     "output_type": "stream",
     "text": [
      "Logistic Regression\n",
      "Accuracy:  0.531949618991\n",
      "\n",
      "                precision    recall  f1-score   support\n",
      "\n",
      "Non-Early-Paid     0.4925    0.3427    0.4042     36707\n",
      "     Defaulted     0.5828    0.5968    0.5897     11929\n",
      "    Early-Paid     0.5395    0.6855    0.6038     40207\n",
      "\n",
      "   avg / total     0.5259    0.5319    0.5194     88843\n",
      "\n"
     ]
    }
   ],
   "source": [
    "y_pred = logisticModel.predict(X_test_minmax)\n",
    "print('Logistic Regression')\n",
    "print('Accuracy: ',accuracy_score(y_test,y_pred))\n",
    "print()\n",
    "target_names = ['Non-Early-Paid','Defaulted','Early-Paid']\n",
    "print(classification_report(y_test,y_pred,target_names=target_names,digits=4))\n",
    "#print('AUC: ',roc_auc_score(y_test,y_pred))"
   ]
  },
  {
   "cell_type": "markdown",
   "metadata": {},
   "source": [
    "### Support Vector Machine"
   ]
  },
  {
   "cell_type": "code",
   "execution_count": null,
   "metadata": {},
   "outputs": [],
   "source": [
    "from sklearn.svm import SVC\n",
    "svcModel = SVC(kernel='rbf')\n",
    "svcModel.fit(X_train_minmax,y_train)"
   ]
  },
  {
   "cell_type": "code",
   "execution_count": null,
   "metadata": {},
   "outputs": [],
   "source": [
    "y_pred = svcModel.predict(X_test_minmax)\n",
    "print('SVM (RBF Kernel)')\n",
    "print('Accuracy: ',accuracy_score(y_test,y_pred))\n",
    "print()\n",
    "target_names = ['Non-Early-Paid','Defaulted','Early-Paid']\n",
    "print(classification_report(y_test,y_pred,target_names=target_names,digits=4))"
   ]
  },
  {
   "cell_type": "markdown",
   "metadata": {},
   "source": [
    "### Random Forest"
   ]
  },
  {
   "cell_type": "code",
   "execution_count": 9,
   "metadata": {},
   "outputs": [
    {
     "name": "stdout",
     "output_type": "stream",
     "text": [
      "computation time:  2.5936100000000124\n"
     ]
    }
   ],
   "source": [
    "from sklearn.ensemble import RandomForestClassifier\n",
    "\n",
    "time_start = time.clock()\n",
    "rf_Gini = RandomForestClassifier(max_depth=12,random_state=0)\n",
    "rf_Gini.fit(X_train_minmax,y_train)\n",
    "time_elapsed = (time.clock() - time_start)\n",
    "print('computation time: ', time_elapsed)"
   ]
  },
  {
   "cell_type": "code",
   "execution_count": 10,
   "metadata": {},
   "outputs": [
    {
     "name": "stdout",
     "output_type": "stream",
     "text": [
      "Random Forest (Gini)\n",
      "Accuracy:  0.563603964517\n",
      "\n",
      "                precision    recall  f1-score   support\n",
      "\n",
      "Non-Early-Paid     0.5499    0.4100    0.4698     36249\n",
      "     Defaulted     0.5710    0.7006    0.6292     40633\n",
      "\n",
      "   avg / total     0.5611    0.5636    0.5540     76882\n",
      "\n"
     ]
    }
   ],
   "source": [
    "y_pred = rf_Gini.predict(X_test_minmax)\n",
    "print('Random Forest (Gini)')\n",
    "print('Accuracy: ',accuracy_score(y_test,y_pred))\n",
    "print()\n",
    "target_names = ['Non-Early-Paid','Defaulted','Early-Paid']\n",
    "print(classification_report(y_test,y_pred,target_names=target_names,digits=4))\n",
    "#print('AUC: ',roc_auc_score(y_test,y_pred))"
   ]
  },
  {
   "cell_type": "code",
   "execution_count": 37,
   "metadata": {},
   "outputs": [
    {
     "name": "stdout",
     "output_type": "stream",
     "text": [
      "Random Forest (Entropy)\n",
      "Accuracy:  0.534819850748\n",
      "\n",
      "                precision    recall  f1-score   support\n",
      "\n",
      "Non-Early-Paid     0.4974    0.2483    0.3312     36707\n",
      "     Defaulted     0.5344    0.7289    0.6167     11929\n",
      "    Early-Paid     0.5476    0.7388    0.6290     40207\n",
      "\n",
      "   avg / total     0.5251    0.5348    0.5043     88843\n",
      "\n"
     ]
    }
   ],
   "source": [
    "rf_Entro = RandomForestClassifier(criterion='entropy',max_depth=10,random_state=0)\n",
    "rf_Entro.fit(X_train_minmax,y_train)\n",
    "y_pred = rf_Entro.predict(X_test_minmax)\n",
    "print('Random Forest (Entropy)')\n",
    "print('Accuracy: ',accuracy_score(y_test,y_pred))\n",
    "print()\n",
    "target_names = ['Non-Early-Paid','Defaulted','Early-Paid']\n",
    "print(classification_report(y_test,y_pred,target_names=target_names,digits=4))"
   ]
  },
  {
   "cell_type": "markdown",
   "metadata": {},
   "source": [
    "### Decision Trees"
   ]
  },
  {
   "cell_type": "code",
   "execution_count": 39,
   "metadata": {},
   "outputs": [
    {
     "name": "stdout",
     "output_type": "stream",
     "text": [
      "computation time:  2.6116609999999127\n",
      "Decision Tree (Gini)\n",
      "Accuracy:  0.528313992098\n",
      "\n",
      "                precision    recall  f1-score   support\n",
      "\n",
      "Non-Early-Paid     0.4856    0.3445    0.4031     36707\n",
      "     Defaulted     0.5379    0.7007    0.6086     11929\n",
      "    Early-Paid     0.5487    0.6450    0.5929     40207\n",
      "\n",
      "   avg / total     0.5212    0.5283    0.5166     88843\n",
      "\n"
     ]
    }
   ],
   "source": [
    "from sklearn.tree import DecisionTreeClassifier\n",
    "\n",
    "tree_Gini = DecisionTreeClassifier(max_depth=10)\n",
    "time_start = time.clock()\n",
    "tree_Gini.fit(X_train_minmax,y_train)\n",
    "time_elapsed = (time.clock() - time_start)\n",
    "print('computation time: ', time_elapsed)\n",
    "y_pred = tree_Gini.predict(X_test_minmax)\n",
    "print('Decision Tree (Gini)')\n",
    "print('Accuracy: ',accuracy_score(y_test,y_pred))\n",
    "print()\n",
    "target_names = ['Non-Early-Paid','Defaulted','Early-Paid']\n",
    "print(classification_report(y_test,y_pred,target_names=target_names,digits=4))"
   ]
  },
  {
   "cell_type": "code",
   "execution_count": 40,
   "metadata": {},
   "outputs": [
    {
     "name": "stdout",
     "output_type": "stream",
     "text": [
      "Decision Tree (Entropy)\n",
      "Accuracy:  0.528313992098\n",
      "\n",
      "                precision    recall  f1-score   support\n",
      "\n",
      "Non-Early-Paid     0.4856    0.3445    0.4031     36707\n",
      "     Defaulted     0.5379    0.7007    0.6086     11929\n",
      "    Early-Paid     0.5487    0.6450    0.5929     40207\n",
      "\n",
      "   avg / total     0.5212    0.5283    0.5166     88843\n",
      "\n"
     ]
    }
   ],
   "source": [
    "tree_Entro = DecisionTreeClassifier(max_depth=8,criterion='entropy')\n",
    "tree_Entro.fit(X_train_minmax,y_train)\n",
    "y_pred = tree_Gini.predict(X_test_minmax)\n",
    "print('Decision Tree (Entropy)')\n",
    "print('Accuracy: ',accuracy_score(y_test,y_pred))\n",
    "print()\n",
    "target_names = ['Non-Early-Paid','Defaulted','Early-Paid']\n",
    "print(classification_report(y_test,y_pred,target_names=target_names,digits=4))"
   ]
  },
  {
   "cell_type": "markdown",
   "metadata": {},
   "source": [
    "### Naive Bayes"
   ]
  },
  {
   "cell_type": "code",
   "execution_count": 41,
   "metadata": {},
   "outputs": [
    {
     "name": "stdout",
     "output_type": "stream",
     "text": [
      "computation time:  0.42754999999988286\n",
      "Naive Bayes (Gaussian)\n",
      "Accuracy:  0.472293821685\n",
      "\n",
      "                precision    recall  f1-score   support\n",
      "\n",
      "Non-Early-Paid     0.4562    0.2502    0.3232     36707\n",
      "     Defaulted     0.3916    0.4028    0.3971     11929\n",
      "    Early-Paid     0.4956    0.6957    0.5788     40207\n",
      "\n",
      "   avg / total     0.4654    0.4723    0.4488     88843\n",
      "\n"
     ]
    }
   ],
   "source": [
    "from sklearn.naive_bayes import GaussianNB, MultinomialNB, BernoulliNB\n",
    "\n",
    "gnb = GaussianNB()\n",
    "time_start = time.clock()\n",
    "y_pred = gnb.fit(X_train_minmax,y_train).predict(X_test_minmax)\n",
    "time_elapsed = (time.clock() - time_start)\n",
    "print('computation time: ', time_elapsed)\n",
    "print('Naive Bayes (Gaussian)')\n",
    "print('Accuracy: ',accuracy_score(y_test,y_pred))\n",
    "print()\n",
    "target_names = ['Non-Early-Paid','Defaulted','Early-Paid']\n",
    "print(classification_report(y_test,y_pred,target_names=target_names,digits=4))"
   ]
  },
  {
   "cell_type": "code",
   "execution_count": 42,
   "metadata": {},
   "outputs": [
    {
     "name": "stdout",
     "output_type": "stream",
     "text": [
      "Naive Bayes (Multinomial)\n",
      "Accuracy:  0.466688427901\n",
      "\n",
      "                precision    recall  f1-score   support\n",
      "\n",
      "Non-Early-Paid     0.4703    0.2863    0.3559     36707\n",
      "     Defaulted     0.3346    0.0974    0.1509     11929\n",
      "    Early-Paid     0.4727    0.7410    0.5772     40207\n",
      "\n",
      "   avg / total     0.4532    0.4667    0.4285     88843\n",
      "\n"
     ]
    }
   ],
   "source": [
    "mnb = MultinomialNB()\n",
    "y_pred = mnb.fit(X_train_minmax,y_train).predict(X_test_minmax)\n",
    "print('Naive Bayes (Multinomial)')\n",
    "print('Accuracy: ',accuracy_score(y_test,y_pred))\n",
    "print()\n",
    "target_names = ['Non-Early-Paid','Defaulted','Early-Paid']\n",
    "print(classification_report(y_test,y_pred,target_names=target_names,digits=4))"
   ]
  },
  {
   "cell_type": "code",
   "execution_count": 43,
   "metadata": {},
   "outputs": [
    {
     "name": "stdout",
     "output_type": "stream",
     "text": [
      "Naive Bayes (Bernoulli)\n",
      "Accuracy:  0.469142194658\n",
      "\n",
      "                precision    recall  f1-score   support\n",
      "\n",
      "Non-Early-Paid     0.4677    0.3691    0.4126     36707\n",
      "     Defaulted     0.3883    0.2089    0.2717     11929\n",
      "    Early-Paid     0.4796    0.6377    0.5475     40207\n",
      "\n",
      "   avg / total     0.4624    0.4691    0.4547     88843\n",
      "\n"
     ]
    }
   ],
   "source": [
    "bnb = BernoulliNB()\n",
    "y_pred = bnb.fit(X_train_minmax,y_train).predict(X_test_minmax)\n",
    "print('Naive Bayes (Bernoulli)')\n",
    "print('Accuracy: ',accuracy_score(y_test,y_pred))\n",
    "print()\n",
    "target_names = ['Non-Early-Paid','Defaulted','Early-Paid']\n",
    "print(classification_report(y_test,y_pred,target_names=target_names,digits=4))"
   ]
  },
  {
   "cell_type": "markdown",
   "metadata": {},
   "source": [
    "## Prediction of Early Repayment"
   ]
  },
  {
   "cell_type": "code",
   "execution_count": 57,
   "metadata": {},
   "outputs": [
    {
     "name": "stdout",
     "output_type": "stream",
     "text": [
      "(298184, 35)\n"
     ]
    }
   ],
   "source": [
    "from statsmodels.regression.linear_model import OLS\n",
    "\n",
    "data['duration'] = (data.last_pymnt_d - data.issue_d) / np.timedelta64(1, 'M')\n",
    "data_early = data[data.loan_status.str.contains('Paid')]\n",
    "print(data_early.shape)"
   ]
  },
  {
   "cell_type": "code",
   "execution_count": 58,
   "metadata": {},
   "outputs": [
    {
     "name": "stdout",
     "output_type": "stream",
     "text": [
      "                            OLS Regression Results                            \n",
      "==============================================================================\n",
      "Dep. Variable:               duration   R-squared:                       0.006\n",
      "Model:                            OLS   Adj. R-squared:                  0.006\n",
      "Method:                 Least Squares   F-statistic:                     1936.\n",
      "Date:                Mon, 04 Dec 2017   Prob (F-statistic):               0.00\n",
      "Time:                        00:44:38   Log-Likelihood:            -1.0649e+06\n",
      "No. Observations:              298184   AIC:                         2.130e+06\n",
      "Df Residuals:                  298182   BIC:                         2.130e+06\n",
      "Df Model:                           1                                         \n",
      "Covariance Type:            nonrobust                                         \n",
      "==============================================================================\n",
      "                 coef    std err          t      P>|t|      [95.0% Conf. Int.]\n",
      "------------------------------------------------------------------------------\n",
      "const         15.3776      0.046    332.070      0.000        15.287    15.468\n",
      "x1           -14.7941      0.336    -43.996      0.000       -15.453   -14.135\n",
      "==============================================================================\n",
      "Omnibus:                    14445.011   Durbin-Watson:                   1.376\n",
      "Prob(Omnibus):                  0.000   Jarque-Bera (JB):            16322.108\n",
      "Skew:                           0.563   Prob(JB):                         0.00\n",
      "Kurtosis:                       2.791   Cond. No.                         21.7\n",
      "==============================================================================\n",
      "\n",
      "Warnings:\n",
      "[1] Standard Errors assume that the covariance matrix of the errors is correctly specified.\n"
     ]
    }
   ],
   "source": [
    "y_early = data_early.duration\n",
    "X_early = np.ones((data_early.shape[0],2))\n",
    "X_early[:,1] = data_early.int_rate\n",
    "model = OLS(y_early,X_early)\n",
    "ols_result = model.fit()\n",
    "print(ols_result.summary())"
   ]
  },
  {
   "cell_type": "code",
   "execution_count": 63,
   "metadata": {},
   "outputs": [
    {
     "name": "stdout",
     "output_type": "stream",
     "text": [
      "                            OLS Regression Results                            \n",
      "==============================================================================\n",
      "Dep. Variable:               duration   R-squared:                       0.031\n",
      "Model:                            OLS   Adj. R-squared:                  0.031\n",
      "Method:                 Least Squares   F-statistic:                     2408.\n",
      "Date:                Mon, 04 Dec 2017   Prob (F-statistic):               0.00\n",
      "Time:                        01:01:42   Log-Likelihood:            -1.0612e+06\n",
      "No. Observations:              298184   AIC:                         2.122e+06\n",
      "Df Residuals:                  298179   BIC:                         2.122e+06\n",
      "Df Model:                           4                                         \n",
      "Covariance Type:            nonrobust                                         \n",
      "==============================================================================\n",
      "                 coef    std err          t      P>|t|      [95.0% Conf. Int.]\n",
      "------------------------------------------------------------------------------\n",
      "const         15.2554      0.246     62.091      0.000        14.774    15.737\n",
      "x1            -7.2270      0.102    -71.186      0.000        -7.426    -7.028\n",
      "x2            -2.9201      0.041    -70.680      0.000        -3.001    -2.839\n",
      "x3             2.2965      0.274      8.372      0.000         1.759     2.834\n",
      "x4             1.3643      0.076     17.955      0.000         1.215     1.513\n",
      "==============================================================================\n",
      "Omnibus:                    13013.177   Durbin-Watson:                   1.443\n",
      "Prob(Omnibus):                  0.000   Jarque-Bera (JB):            13751.326\n",
      "Skew:                           0.501   Prob(JB):                         0.00\n",
      "Kurtosis:                       2.677   Cond. No.                         36.9\n",
      "==============================================================================\n",
      "\n",
      "Warnings:\n",
      "[1] Standard Errors assume that the covariance matrix of the errors is correctly specified.\n"
     ]
    }
   ],
   "source": [
    "X_early_2 = np.ones((data_early.shape[0],5))\n",
    "X_early_2[:,1] = data_early.int_rate\n",
    "X_early_2[:,2] = data_early.term.str.contains('36')\n",
    "X_early_2[:,3] = data_early.last_fico_range_high\n",
    "X_early_2[:,4] = data_early.loan_amnt\n",
    "X_early_2 = min_max_scaler.fit_transform(X_early_2)\n",
    "X_early_2[:,0] = 1\n",
    "model = OLS(y_early,X_early_2)\n",
    "ols_result = model.fit()\n",
    "print(ols_result.summary())"
   ]
  }
 ],
 "metadata": {
  "kernelspec": {
   "display_name": "Python 3",
   "language": "python",
   "name": "python3"
  },
  "language_info": {
   "codemirror_mode": {
    "name": "ipython",
    "version": 3
   },
   "file_extension": ".py",
   "mimetype": "text/x-python",
   "name": "python",
   "nbconvert_exporter": "python",
   "pygments_lexer": "ipython3",
   "version": "3.6.3"
  }
 },
 "nbformat": 4,
 "nbformat_minor": 2
}
