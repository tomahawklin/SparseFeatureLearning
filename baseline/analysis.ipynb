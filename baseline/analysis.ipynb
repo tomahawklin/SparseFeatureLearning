{
 "cells": [
  {
   "cell_type": "code",
   "execution_count": 1,
   "metadata": {},
   "outputs": [],
   "source": [
    "import numpy as np\n",
    "import pandas as pd\n",
    "import matplotlib.pyplot as plt\n",
    "import datetime\n",
    "from sklearn.model_selection import train_test_split\n",
    "from sklearn.metrics import accuracy_score, roc_auc_score, roc_curve, classification_report\n",
    "import time\n",
    "#import pydotplus"
   ]
  },
  {
   "cell_type": "markdown",
   "metadata": {},
   "source": [
    "## Predict Default Probability of Recent Loans\n",
    "We want to try different models to predict loans that have expired"
   ]
  },
  {
   "cell_type": "code",
   "execution_count": 161,
   "metadata": {},
   "outputs": [],
   "source": [
    "df1 = pd.read_excel('2007_2011.xlsx',sheetname='Sheet1')\n",
    "df2 = pd.read_excel('2012_2013.xlsx',sheetname='Sheet1')\n",
    "df3 = pd.read_excel('2014.xlsx',sheetname='Sheet1')\n",
    "df4 = pd.read_excel('2015.xlsx',sheetname='Sheet1')\n",
    "df5 = pd.read_excel('2016_Q1.xlsx',sheetname='Sheet1')\n",
    "df6 = pd.read_excel('2016_Q2.xlsx',sheetname='Sheet1')\n",
    "df7 = pd.read_excel('2016_Q3.xlsx',sheetname='Sheet1')"
   ]
  },
  {
   "cell_type": "code",
   "execution_count": 162,
   "metadata": {
    "collapsed": true
   },
   "outputs": [],
   "source": [
    "date_before_36 = datetime.date(2014,7,1)\n",
    "date_before_60 = datetime.date(2012,7,1)\n",
    "date_since_2009 = datetime.date(2010,1,1)\n",
    "df1 = df1[df1.issue_d > date_since_2009]\n",
    "#df2 = df2[((df2.term.str.contains('60')) & (df2.issue_d < date_before_60)) | (df2.term.str.contains('36'))]\n",
    "#df3 = df3[(df3.term.str.contains('36')) & (df3.issue_d < date_before_36)]"
   ]
  },
  {
   "cell_type": "code",
   "execution_count": 5,
   "metadata": {
    "collapsed": true
   },
   "outputs": [],
   "source": [
    "#date_before_36 = datetime.date(2014,10,1)\n",
    "#date_before_60 = datetime.date(2012,10,1)\n",
    "#df1 = df1[((df1.term.str.contains('36')) & (df1.issue_d > date_before_36))\n",
    "#                | (df1.term.str.contains('60'))]"
   ]
  },
  {
   "cell_type": "code",
   "execution_count": 163,
   "metadata": {},
   "outputs": [
    {
     "name": "stdout",
     "output_type": "stream",
     "text": [
      "(1208279, 32)\n"
     ]
    }
   ],
   "source": [
    "data = pd.concat([df1,df2,df3,df4,df5,df6,df7],join='inner')\n",
    "\n",
    "data = data[['id','loan_amnt','funded_amnt','funded_amnt_inv','term','int_rate',\n",
    "         'installment','grade','sub_grade','emp_title','emp_length',\n",
    "         'home_ownership','annual_inc','verification_status','issue_d',\n",
    "         'loan_status','purpose','title','zip_code','addr_state','dti',\n",
    "        'delinq_2yrs','earliest_cr_line','open_acc','pub_rec','last_pymnt_d',\n",
    "        'last_pymnt_amnt','last_fico_range_high','last_fico_range_low','application_type',\n",
    "             'revol_bal','revol_util']]\n",
    "\n",
    "data.dropna(subset=['annual_inc','loan_status','issue_d','last_pymnt_d','loan_amnt',\n",
    "                          'int_rate','earliest_cr_line','open_acc','pub_rec','delinq_2yrs',\n",
    "                          'grade','last_fico_range_high','last_fico_range_low','installment',\n",
    "                         'funded_amnt','dti','funded_amnt_inv','revol_bal']\n",
    "            ,inplace=True)\n",
    "\n",
    "print(data.shape)"
   ]
  },
  {
   "cell_type": "code",
   "execution_count": 164,
   "metadata": {},
   "outputs": [
    {
     "data": {
      "text/plain": [
       "0.089125111004991403"
      ]
     },
     "execution_count": 164,
     "metadata": {},
     "output_type": "execute_result"
    }
   ],
   "source": [
    "np.sum(data.funded_amnt_inv < data.loan_amnt) / data.shape[0]"
   ]
  },
  {
   "cell_type": "code",
   "execution_count": 165,
   "metadata": {},
   "outputs": [
    {
     "data": {
      "text/plain": [
       "18.3844394382416"
      ]
     },
     "execution_count": 165,
     "metadata": {},
     "output_type": "execute_result"
    }
   ],
   "source": [
    "np.mean(data.dti)"
   ]
  },
  {
   "cell_type": "markdown",
   "metadata": {},
   "source": [
    "## Feature Extraction\n",
    "Now we want to use the following set of features for prediction model.\n",
    "loan_amnt, funded amnt (investor), term (category), int_rate, installment, grade (category), emp_length (category), home_ownership (category), annual_inc, verification_status (category), purpose (category), dti, delinq_2yrs, earliest_cr_line (up to issue_d), open_acc, pub_rec, fico_high, fico_low"
   ]
  },
  {
   "cell_type": "code",
   "execution_count": 166,
   "metadata": {},
   "outputs": [
    {
     "name": "stdout",
     "output_type": "stream",
     "text": [
      "(966623, 62)\n",
      "(241656, 62)\n"
     ]
    }
   ],
   "source": [
    "# create labels for the dataset\n",
    "data['label'] = (data.loan_status.str.contains('Charged Off') | \n",
    "                data.loan_status.str.contains('Default') | \n",
    "                data.loan_status.str.contains('Late'))\n",
    "data['cr_hist'] = (data.issue_d - data.earliest_cr_line) / np.timedelta64(1, 'M')\n",
    "data.label = data.label.astype(int)\n",
    "\n",
    "\n",
    "# clean and get training/testing data \n",
    "temp = pd.get_dummies(data[['term','grade','emp_length','home_ownership',\n",
    "                                  'verification_status','purpose']],dummy_na=True)\n",
    "X = data.as_matrix(columns=['loan_amnt','funded_amnt_inv','int_rate','installment',\n",
    "                                       'annual_inc','dti','delinq_2yrs','open_acc','pub_rec',\n",
    "                                       'last_fico_range_high','last_fico_range_low','cr_hist'])\n",
    "X = np.concatenate((X,temp.as_matrix()),axis=1)\n",
    "y = data.label.as_matrix()\n",
    "\n",
    "X_train, X_test, y_train, y_test = train_test_split(X, y, test_size=0.2, random_state=24)\n",
    "print(X_train.shape)\n",
    "print(X_test.shape)"
   ]
  },
  {
   "cell_type": "code",
   "execution_count": 146,
   "metadata": {},
   "outputs": [
    {
     "data": {
      "text/plain": [
       "0.130646000018246"
      ]
     },
     "execution_count": 146,
     "metadata": {},
     "output_type": "execute_result"
    }
   ],
   "source": [
    "np.sum(data.label)/data.shape[0]"
   ]
  },
  {
   "cell_type": "code",
   "execution_count": 157,
   "metadata": {},
   "outputs": [
    {
     "name": "stdout",
     "output_type": "stream",
     "text": [
      "0.130619226822\n",
      "0.130753090362\n"
     ]
    }
   ],
   "source": [
    "print(np.sum(y_train)/y_train.shape[0])\n",
    "print(np.sum(y_test)/y_test.shape[0])"
   ]
  },
  {
   "cell_type": "code",
   "execution_count": 168,
   "metadata": {
    "collapsed": true
   },
   "outputs": [],
   "source": [
    "from sklearn import preprocessing\n",
    "\n",
    "min_max_scaler = preprocessing.MinMaxScaler()\n",
    "X_train_minmax = min_max_scaler.fit_transform(X_train)\n",
    "X_test_minmax = min_max_scaler.transform(X_test)"
   ]
  },
  {
   "cell_type": "markdown",
   "metadata": {},
   "source": [
    "## Prediction of Default\n",
    "### Logistic Regression with cross-validation"
   ]
  },
  {
   "cell_type": "code",
   "execution_count": 175,
   "metadata": {},
   "outputs": [
    {
     "data": {
      "text/plain": [
       "LogisticRegressionCV(Cs=10, class_weight=None, cv=10, dual=False,\n",
       "           fit_intercept=True, intercept_scaling=1.0, max_iter=100,\n",
       "           multi_class='ovr', n_jobs=1, penalty='l2', random_state=None,\n",
       "           refit=True, scoring=None, solver='lbfgs', tol=0.0001, verbose=0)"
      ]
     },
     "execution_count": 175,
     "metadata": {},
     "output_type": "execute_result"
    }
   ],
   "source": [
    "from sklearn.linear_model import LogisticRegressionCV\n",
    "\n",
    "logisticModel = LogisticRegressionCV(cv=10)\n",
    "logisticModel.fit(X_train_minmax,y_train)"
   ]
  },
  {
   "cell_type": "code",
   "execution_count": 177,
   "metadata": {},
   "outputs": [
    {
     "data": {
      "text/plain": [
       "array([[ 9,  4,  1,  6, 36,  2, 47, 52, 53, 56, 48, 51, 49, 31, 35, 22, 42,\n",
       "        61, 14, 46, 59, 24, 55, 28, 32, 27, 60, 30, 29, 25, 54, 37, 26, 16,\n",
       "        17, 23, 40, 33, 18, 15, 39, 41, 19, 21, 12, 57, 20, 43, 44, 45, 58,\n",
       "        34, 10, 50, 13, 38, 11,  7,  8,  3,  0,  5]])"
      ]
     },
     "execution_count": 177,
     "metadata": {},
     "output_type": "execute_result"
    }
   ],
   "source": [
    "np.argsort(logisticModel.coef_)"
   ]
  },
  {
   "cell_type": "code",
   "execution_count": 33,
   "metadata": {},
   "outputs": [
    {
     "name": "stdout",
     "output_type": "stream",
     "text": [
      "-3.84946890517\n",
      "3.12741998481\n"
     ]
    }
   ],
   "source": [
    "print(logisticModel.coef_[0,6])\n",
    "print(logisticModel.coef_[0,8])"
   ]
  },
  {
   "cell_type": "code",
   "execution_count": 182,
   "metadata": {},
   "outputs": [
    {
     "data": {
      "image/png": "[encoded data removed]",
      "text/plain": [
       "<matplotlib.figure.Figure at 0x1273e2390>"
      ]
     },
     "metadata": {},
     "output_type": "display_data"
    }
   ],
   "source": [
    "bplot = pd.Series(logisticModel.coef_[0,[9,4,1,3,0,5]])\n",
    "xticks = ['last_fico_range_high','annual_inc','funded_amnt_inv','installment','loan_amnt','dti']\n",
    "p1 = bplot.plot(kind='bar',rot=-30,ylim=(-30,17))\n",
    "p1.set_xticklabels(xticks)\n",
    "plt.show()"
   ]
  },
  {
   "cell_type": "code",
   "execution_count": 176,
   "metadata": {},
   "outputs": [
    {
     "name": "stdout",
     "output_type": "stream",
     "text": [
      "accuracy:  0.917258416923\n",
      "                    precision    recall  f1-score   support\n",
      "\n",
      "Non-Defaulted Loan     0.9401    0.9649    0.9524    207198\n",
      "    Defaulted Loan     0.7494    0.6306    0.6849     34458\n",
      "\n",
      "       avg / total     0.9129    0.9173    0.9142    241656\n",
      "\n",
      "AUC:  0.797762930132\n"
     ]
    }
   ],
   "source": [
    "y_pred = logisticModel.predict(X_test_minmax)\n",
    "print('accuracy: ',accuracy_score(y_test,y_pred))\n",
    "target_names = ['Non-Defaulted Loan','Defaulted Loan']\n",
    "print(classification_report(y_test,y_pred,target_names=target_names,digits=4))\n",
    "print('AUC: ',roc_auc_score(y_test,y_pred))"
   ]
  },
  {
   "cell_type": "markdown",
   "metadata": {},
   "source": [
    "### Support Vector Machine"
   ]
  },
  {
   "cell_type": "code",
   "execution_count": 10,
   "metadata": {},
   "outputs": [
    {
     "data": {
      "text/plain": [
       "SVC(C=1.0, cache_size=200, class_weight=None, coef0=0.0,\n",
       "  decision_function_shape=None, degree=3, gamma='auto', kernel='rbf',\n",
       "  max_iter=-1, probability=False, random_state=None, shrinking=True,\n",
       "  tol=0.001, verbose=False)"
      ]
     },
     "execution_count": 10,
     "metadata": {},
     "output_type": "execute_result"
    }
   ],
   "source": [
    "from sklearn.svm import SVC\n",
    "svcModel = SVC(kernel='rbf')\n",
    "svcModel.fit(X_train_minmax,y_train)"
   ]
  },
  {
   "cell_type": "code",
   "execution_count": 11,
   "metadata": {},
   "outputs": [
    {
     "name": "stdout",
     "output_type": "stream",
     "text": [
      "accuracy:  0.941154532234\n",
      "                    precision    recall  f1-score   support\n",
      "\n",
      "Non-Defaulted Loan     0.9582    0.9763    0.9671    306878\n",
      "    Defaulted Loan     0.7808    0.6649    0.7182     39011\n",
      "\n",
      "       avg / total     0.9382    0.9412    0.9391    345889\n",
      "\n",
      "AUC:  0.820570487016\n"
     ]
    }
   ],
   "source": [
    "y_pred = svcModel.predict(X_test_minmax)\n",
    "print('accuracy: ',accuracy_score(y_test,y_pred))\n",
    "target_names = ['Non-Defaulted Loan','Defaulted Loan']\n",
    "print(classification_report(y_test,y_pred,target_names=target_names,digits=4))\n",
    "print('AUC: ',roc_auc_score(y_test,y_pred))"
   ]
  },
  {
   "cell_type": "markdown",
   "metadata": {},
   "source": [
    "### Random Forest"
   ]
  },
  {
   "cell_type": "code",
   "execution_count": 169,
   "metadata": {},
   "outputs": [
    {
     "name": "stdout",
     "output_type": "stream",
     "text": [
      "computation time:  28.437481999999818\n"
     ]
    }
   ],
   "source": [
    "from sklearn.ensemble import RandomForestClassifier\n",
    "\n",
    "time_start = time.clock()\n",
    "rf_Gini = RandomForestClassifier(max_depth=10,random_state=0)\n",
    "rf_Gini.fit(X_train_minmax,y_train)\n",
    "time_elapsed = (time.clock() - time_start)\n",
    "print('computation time: ', time_elapsed)"
   ]
  },
  {
   "cell_type": "code",
   "execution_count": 170,
   "metadata": {},
   "outputs": [
    {
     "name": "stdout",
     "output_type": "stream",
     "text": [
      "accuracy:  0.917337041083\n",
      "                    precision    recall  f1-score   support\n",
      "\n",
      "Non-Defaulted Loan     0.9459    0.9584    0.9521    207198\n",
      "    Defaulted Loan     0.7284    0.6702    0.6981     34458\n",
      "\n",
      "       avg / total     0.9149    0.9173    0.9159    241656\n",
      "\n",
      "AUC:  0.814321550507\n"
     ]
    }
   ],
   "source": [
    "y_pred = rf_Gini.predict(X_test_minmax)\n",
    "print('accuracy: ',accuracy_score(y_test,y_pred))\n",
    "target_names = ['Non-Defaulted Loan','Defaulted Loan']\n",
    "print(classification_report(y_test,y_pred,target_names=target_names,digits=4))\n",
    "print('AUC: ',roc_auc_score(y_test,y_pred))"
   ]
  },
  {
   "cell_type": "code",
   "execution_count": 174,
   "metadata": {},
   "outputs": [
    {
     "name": "stdout",
     "output_type": "stream",
     "text": [
      "accuracy:  0.916811500646\n",
      "                    precision    recall  f1-score   support\n",
      "\n",
      "Non-Defaulted Loan     0.9442    0.9597    0.9519    207198\n",
      "    Defaulted Loan     0.7310    0.6592    0.6932     34458\n",
      "\n",
      "       avg / total     0.9138    0.9168    0.9150    241656\n",
      "\n",
      "AUC:  0.809430215881\n"
     ]
    }
   ],
   "source": [
    "rf_Entro = RandomForestClassifier(criterion='entropy',random_state=0,max_depth=10)\n",
    "rf_Entro.fit(X_train,y_train)\n",
    "y_pred = rf_Entro.predict(X_test)\n",
    "print('accuracy: ',accuracy_score(y_test,y_pred))\n",
    "target_names = ['Non-Defaulted Loan','Defaulted Loan']\n",
    "print(classification_report(y_test,y_pred,target_names=target_names,digits=4))\n",
    "print('AUC: ',roc_auc_score(y_test,y_pred))"
   ]
  },
  {
   "cell_type": "markdown",
   "metadata": {},
   "source": [
    "### Decision Trees"
   ]
  },
  {
   "cell_type": "code",
   "execution_count": 171,
   "metadata": {},
   "outputs": [
    {
     "name": "stdout",
     "output_type": "stream",
     "text": [
      "computation time:  16.211251000000175\n",
      "accuracy:  0.917150825967\n",
      "                    precision    recall  f1-score   support\n",
      "\n",
      "Non-Defaulted Loan     0.9449    0.9594    0.9521    207198\n",
      "    Defaulted Loan     0.7308    0.6633    0.6954     34458\n",
      "\n",
      "       avg / total     0.9143    0.9172    0.9155    241656\n",
      "\n",
      "AUC:  0.811345906263\n"
     ]
    }
   ],
   "source": [
    "from sklearn.tree import DecisionTreeClassifier\n",
    "\n",
    "tree_Gini = DecisionTreeClassifier(max_depth=8)\n",
    "time_start = time.clock()\n",
    "tree_Gini.fit(X_train_minmax,y_train)\n",
    "time_elapsed = (time.clock() - time_start)\n",
    "print('computation time: ', time_elapsed)\n",
    "y_pred = tree_Gini.predict(X_test_minmax)\n",
    "print('accuracy: ',accuracy_score(y_test,y_pred))\n",
    "target_names = ['Non-Defaulted Loan','Defaulted Loan']\n",
    "print(classification_report(y_test,y_pred,target_names=target_names,digits=4))\n",
    "print('AUC: ',roc_auc_score(y_test,y_pred))"
   ]
  },
  {
   "cell_type": "code",
   "execution_count": 172,
   "metadata": {},
   "outputs": [
    {
     "name": "stdout",
     "output_type": "stream",
     "text": [
      "accuracy:  0.917150825967\n",
      "                    precision    recall  f1-score   support\n",
      "\n",
      "Non-Defaulted Loan     0.9449    0.9594    0.9521    207198\n",
      "    Defaulted Loan     0.7308    0.6633    0.6954     34458\n",
      "\n",
      "       avg / total     0.9143    0.9172    0.9155    241656\n",
      "\n",
      "AUC:  0.811345906263\n"
     ]
    }
   ],
   "source": [
    "tree_Entro = DecisionTreeClassifier(max_depth=8,criterion='entropy')\n",
    "tree_Entro.fit(X_train_minmax,y_train)\n",
    "y_pred = tree_Gini.predict(X_test_minmax)\n",
    "print('accuracy: ',accuracy_score(y_test,y_pred))\n",
    "target_names = ['Non-Defaulted Loan','Defaulted Loan']\n",
    "print(classification_report(y_test,y_pred,target_names=target_names,digits=4))\n",
    "print('AUC: ',roc_auc_score(y_test,y_pred))"
   ]
  },
  {
   "cell_type": "markdown",
   "metadata": {},
   "source": [
    "### Naive Bayes"
   ]
  },
  {
   "cell_type": "code",
   "execution_count": 183,
   "metadata": {},
   "outputs": [
    {
     "name": "stdout",
     "output_type": "stream",
     "text": [
      "computation time:  1.6990349999996397\n",
      "accuracy:  0.775321117622\n",
      "                    precision    recall  f1-score   support\n",
      "\n",
      "Non-Defaulted Loan     0.9710    0.7606    0.8531    207198\n",
      "    Defaulted Loan     0.3750    0.8636    0.5229     34458\n",
      "\n",
      "       avg / total     0.8861    0.7753    0.8060    241656\n",
      "\n",
      "AUC:  0.812132921141\n"
     ]
    }
   ],
   "source": [
    "from sklearn.naive_bayes import GaussianNB, MultinomialNB, BernoulliNB\n",
    "\n",
    "gnb = GaussianNB()\n",
    "time_start = time.clock()\n",
    "y_pred = gnb.fit(X_train_minmax,y_train).predict(X_test_minmax)\n",
    "time_elapsed = (time.clock() - time_start)\n",
    "print('computation time: ', time_elapsed)\n",
    "print('accuracy: ',accuracy_score(y_test,y_pred))\n",
    "target_names = ['Non-Defaulted Loan','Defaulted Loan']\n",
    "print(classification_report(y_test,y_pred,target_names=target_names,digits=4))\n",
    "print('AUC: ',roc_auc_score(y_test,y_pred))"
   ]
  },
  {
   "cell_type": "code",
   "execution_count": 184,
   "metadata": {},
   "outputs": [
    {
     "name": "stdout",
     "output_type": "stream",
     "text": [
      "accuracy:  0.854181150065\n",
      "                    precision    recall  f1-score   support\n",
      "\n",
      "Non-Defaulted Loan     0.8637    0.9854    0.9206    207198\n",
      "    Defaulted Loan     0.4258    0.0649    0.1127     34458\n",
      "\n",
      "       avg / total     0.8013    0.8542    0.8054    241656\n",
      "\n",
      "AUC:  0.525179330461\n"
     ]
    }
   ],
   "source": [
    "mnb = MultinomialNB()\n",
    "y_pred = mnb.fit(X_train_minmax,y_train).predict(X_test_minmax)\n",
    "print('accuracy: ',accuracy_score(y_test,y_pred))\n",
    "target_names = ['Non-Defaulted Loan','Defaulted Loan']\n",
    "print(classification_report(y_test,y_pred,target_names=target_names,digits=4))\n",
    "print('AUC: ',roc_auc_score(y_test,y_pred))"
   ]
  },
  {
   "cell_type": "code",
   "execution_count": 185,
   "metadata": {},
   "outputs": [
    {
     "name": "stdout",
     "output_type": "stream",
     "text": [
      "accuracy:  0.847833283676\n",
      "                    precision    recall  f1-score   support\n",
      "\n",
      "Non-Defaulted Loan     0.8786    0.9544    0.9149    207198\n",
      "    Defaulted Loan     0.4303    0.2072    0.2797     34458\n",
      "\n",
      "       avg / total     0.8147    0.8478    0.8244    241656\n",
      "\n",
      "AUC:  0.580802558443\n"
     ]
    }
   ],
   "source": [
    "bnb = BernoulliNB()\n",
    "y_pred = bnb.fit(X_train_minmax,y_train).predict(X_test_minmax)\n",
    "print('accuracy: ',accuracy_score(y_test,y_pred))\n",
    "target_names = ['Non-Defaulted Loan','Defaulted Loan']\n",
    "print(classification_report(y_test,y_pred,target_names=target_names,digits=4))\n",
    "print('AUC: ',roc_auc_score(y_test,y_pred))"
   ]
  },
  {
   "cell_type": "markdown",
   "metadata": {},
   "source": [
    "## Prediction of Early Repayment"
   ]
  },
  {
   "cell_type": "code",
   "execution_count": 57,
   "metadata": {},
   "outputs": [
    {
     "name": "stdout",
     "output_type": "stream",
     "text": [
      "(298184, 35)\n"
     ]
    }
   ],
   "source": [
    "from statsmodels.regression.linear_model import OLS\n",
    "\n",
    "data['duration'] = (data.last_pymnt_d - data.issue_d) / np.timedelta64(1, 'M')\n",
    "data_early = data[data.loan_status.str.contains('Paid')]\n",
    "print(data_early.shape)"
   ]
  },
  {
   "cell_type": "code",
   "execution_count": 58,
   "metadata": {},
   "outputs": [
    {
     "name": "stdout",
     "output_type": "stream",
     "text": [
      "                            OLS Regression Results                            \n",
      "==============================================================================\n",
      "Dep. Variable:               duration   R-squared:                       0.006\n",
      "Model:                            OLS   Adj. R-squared:                  0.006\n",
      "Method:                 Least Squares   F-statistic:                     1936.\n",
      "Date:                Mon, 04 Dec 2017   Prob (F-statistic):               0.00\n",
      "Time:                        00:44:38   Log-Likelihood:            -1.0649e+06\n",
      "No. Observations:              298184   AIC:                         2.130e+06\n",
      "Df Residuals:                  298182   BIC:                         2.130e+06\n",
      "Df Model:                           1                                         \n",
      "Covariance Type:            nonrobust                                         \n",
      "==============================================================================\n",
      "                 coef    std err          t      P>|t|      [95.0% Conf. Int.]\n",
      "------------------------------------------------------------------------------\n",
      "const         15.3776      0.046    332.070      0.000        15.287    15.468\n",
      "x1           -14.7941      0.336    -43.996      0.000       -15.453   -14.135\n",
      "==============================================================================\n",
      "Omnibus:                    14445.011   Durbin-Watson:                   1.376\n",
      "Prob(Omnibus):                  0.000   Jarque-Bera (JB):            16322.108\n",
      "Skew:                           0.563   Prob(JB):                         0.00\n",
      "Kurtosis:                       2.791   Cond. No.                         21.7\n",
      "==============================================================================\n",
      "\n",
      "Warnings:\n",
      "[1] Standard Errors assume that the covariance matrix of the errors is correctly specified.\n"
     ]
    }
   ],
   "source": [
    "y_early = data_early.duration\n",
    "X_early = np.ones((data_early.shape[0],2))\n",
    "X_early[:,1] = data_early.int_rate\n",
    "model = OLS(y_early,X_early)\n",
    "ols_result = model.fit()\n",
    "print(ols_result.summary())"
   ]
  },
  {
   "cell_type": "code",
   "execution_count": 63,
   "metadata": {},
   "outputs": [
    {
     "name": "stdout",
     "output_type": "stream",
     "text": [
      "                            OLS Regression Results                            \n",
      "==============================================================================\n",
      "Dep. Variable:               duration   R-squared:                       0.031\n",
      "Model:                            OLS   Adj. R-squared:                  0.031\n",
      "Method:                 Least Squares   F-statistic:                     2408.\n",
      "Date:                Mon, 04 Dec 2017   Prob (F-statistic):               0.00\n",
      "Time:                        01:01:42   Log-Likelihood:            -1.0612e+06\n",
      "No. Observations:              298184   AIC:                         2.122e+06\n",
      "Df Residuals:                  298179   BIC:                         2.122e+06\n",
      "Df Model:                           4                                         \n",
      "Covariance Type:            nonrobust                                         \n",
      "==============================================================================\n",
      "                 coef    std err          t      P>|t|      [95.0% Conf. Int.]\n",
      "------------------------------------------------------------------------------\n",
      "const         15.2554      0.246     62.091      0.000        14.774    15.737\n",
      "x1            -7.2270      0.102    -71.186      0.000        -7.426    -7.028\n",
      "x2            -2.9201      0.041    -70.680      0.000        -3.001    -2.839\n",
      "x3             2.2965      0.274      8.372      0.000         1.759     2.834\n",
      "x4             1.3643      0.076     17.955      0.000         1.215     1.513\n",
      "==============================================================================\n",
      "Omnibus:                    13013.177   Durbin-Watson:                   1.443\n",
      "Prob(Omnibus):                  0.000   Jarque-Bera (JB):            13751.326\n",
      "Skew:                           0.501   Prob(JB):                         0.00\n",
      "Kurtosis:                       2.677   Cond. No.                         36.9\n",
      "==============================================================================\n",
      "\n",
      "Warnings:\n",
      "[1] Standard Errors assume that the covariance matrix of the errors is correctly specified.\n"
     ]
    }
   ],
   "source": [
    "X_early_2 = np.ones((data_early.shape[0],5))\n",
    "X_early_2[:,1] = data_early.int_rate\n",
    "X_early_2[:,2] = data_early.term.str.contains('36')\n",
    "X_early_2[:,3] = data_early.last_fico_range_high\n",
    "X_early_2[:,4] = data_early.loan_amnt\n",
    "X_early_2 = min_max_scaler.fit_transform(X_early_2)\n",
    "X_early_2[:,0] = 1\n",
    "model = OLS(y_early,X_early_2)\n",
    "ols_result = model.fit()\n",
    "print(ols_result.summary())"
   ]
  }
 ],
 "metadata": {
  "kernelspec": {
   "display_name": "Python 3",
   "language": "python",
   "name": "python3"
  },
  "language_info": {
   "codemirror_mode": {
    "name": "ipython",
    "version": 3
   },
   "file_extension": ".py",
   "mimetype": "text/x-python",
   "name": "python",
   "nbconvert_exporter": "python",
   "pygments_lexer": "ipython3",
   "version": "3.6.3"
  }
 },
 "nbformat": 4,
 "nbformat_minor": 2
}
